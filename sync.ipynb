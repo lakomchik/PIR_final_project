{
 "cells": [
  {
   "cell_type": "code",
   "execution_count": 12,
   "metadata": {},
   "outputs": [],
   "source": [
    "import numpy as np\n",
    "import os\n",
    "import glob\n",
    "import pandas as pd"
   ]
  },
  {
   "cell_type": "code",
   "execution_count": 41,
   "metadata": {},
   "outputs": [],
   "source": [
    "class Sync():\n",
    "    def init(self,path_xyz):\n",
    "        ###\n",
    "        files=glob.glob(path_xyz+'\\*')\n",
    "        for i in range(0,len(files)):\n",
    "            files[i]=files[i][47:]\n",
    "\n",
    "        print(files)\n",
    "        ###\n",
    "        for i in files[2],files[-2]:\n",
    "            globals()['%s_data'%i[:-4]] = pd.read_csv(path_xyz+\"/\"+i, delim_whitespace=True, error_bad_lines=True,header=None,skiprows=3,warn_bad_lines=True)\n",
    "            globals()['%s_data'%i[:-4]].columns = [\"timestamp\", \"path\"]\n",
    "        ###\n",
    "        groundtruth_data=pd.read_csv(path_xyz+\"/\"+files[3], delim_whitespace=True, error_bad_lines=True,header=None,skiprows=3,warn_bad_lines=True)\n",
    "        groundtruth_data.columns = [\"timestamp\", \"tx\", \"ty\", \"tz\", \"qx\", \"qy\", \"qz\", \"qw\"]\n",
    "        ###"
   ]
  },
  {
   "cell_type": "code",
   "execution_count": 42,
   "metadata": {},
   "outputs": [
    {
     "name": "stdout",
     "output_type": "stream",
     "text": [
      "['accelerometer.txt', 'depth', 'depth.txt', 'groundtruth.txt', 'rgb', 'rgb.txt', 'test_sync.txt']\n"
     ]
    },
    {
     "name": "stderr",
     "output_type": "stream",
     "text": [
      "C:\\Users\\serge\\AppData\\Local\\Temp\\ipykernel_8800\\2206804264.py:11: FutureWarning: The error_bad_lines argument has been deprecated and will be removed in a future version. Use on_bad_lines in the future.\n",
      "\n",
      "\n",
      "  globals()['%s_data'%i[:-4]] = pd.read_csv(path_xyz+\"/\"+i, delim_whitespace=True, error_bad_lines=True,header=None,skiprows=3,warn_bad_lines=True)\n",
      "C:\\Users\\serge\\AppData\\Local\\Temp\\ipykernel_8800\\2206804264.py:11: FutureWarning: The warn_bad_lines argument has been deprecated and will be removed in a future version. Use on_bad_lines in the future.\n",
      "\n",
      "\n",
      "  globals()['%s_data'%i[:-4]] = pd.read_csv(path_xyz+\"/\"+i, delim_whitespace=True, error_bad_lines=True,header=None,skiprows=3,warn_bad_lines=True)\n",
      "C:\\Users\\serge\\AppData\\Local\\Temp\\ipykernel_8800\\2206804264.py:11: FutureWarning: The error_bad_lines argument has been deprecated and will be removed in a future version. Use on_bad_lines in the future.\n",
      "\n",
      "\n",
      "  globals()['%s_data'%i[:-4]] = pd.read_csv(path_xyz+\"/\"+i, delim_whitespace=True, error_bad_lines=True,header=None,skiprows=3,warn_bad_lines=True)\n",
      "C:\\Users\\serge\\AppData\\Local\\Temp\\ipykernel_8800\\2206804264.py:11: FutureWarning: The warn_bad_lines argument has been deprecated and will be removed in a future version. Use on_bad_lines in the future.\n",
      "\n",
      "\n",
      "  globals()['%s_data'%i[:-4]] = pd.read_csv(path_xyz+\"/\"+i, delim_whitespace=True, error_bad_lines=True,header=None,skiprows=3,warn_bad_lines=True)\n",
      "C:\\Users\\serge\\AppData\\Local\\Temp\\ipykernel_8800\\2206804264.py:14: FutureWarning: The error_bad_lines argument has been deprecated and will be removed in a future version. Use on_bad_lines in the future.\n",
      "\n",
      "\n",
      "  groundtruth_data=pd.read_csv(path_xyz+\"/\"+files[3], delim_whitespace=True, error_bad_lines=True,header=None,skiprows=3,warn_bad_lines=True)\n",
      "C:\\Users\\serge\\AppData\\Local\\Temp\\ipykernel_8800\\2206804264.py:14: FutureWarning: The warn_bad_lines argument has been deprecated and will be removed in a future version. Use on_bad_lines in the future.\n",
      "\n",
      "\n",
      "  groundtruth_data=pd.read_csv(path_xyz+\"/\"+files[3], delim_whitespace=True, error_bad_lines=True,header=None,skiprows=3,warn_bad_lines=True)\n"
     ]
    }
   ],
   "source": [
    "xyz_ds=Sync()\n",
    "path_xyz=r'datasets/rgbd_dataset_freiburg1_xyz_clear_test'\n",
    "xyz_ds.init(path_xyz=path_xyz)\n"
   ]
  },
  {
   "cell_type": "code",
   "execution_count": 13,
   "metadata": {},
   "outputs": [],
   "source": []
  },
  {
   "cell_type": "code",
   "execution_count": 14,
   "metadata": {},
   "outputs": [
    {
     "name": "stdout",
     "output_type": "stream",
     "text": [
      "['accelerometer.txt', 'depth', 'depth.txt', 'groundtruth.txt', 'groundtruth_sync.txt', 'rgb', 'rgb.txt', 'test_py.txt', 'test_sync.txt']\n"
     ]
    }
   ],
   "source": []
  },
  {
   "cell_type": "code",
   "execution_count": 15,
   "metadata": {},
   "outputs": [
    {
     "name": "stderr",
     "output_type": "stream",
     "text": [
      "C:\\Users\\serge\\AppData\\Local\\Temp\\ipykernel_8800\\1942274392.py:2: FutureWarning: The error_bad_lines argument has been deprecated and will be removed in a future version. Use on_bad_lines in the future.\n",
      "\n",
      "\n",
      "  globals()['%s_data'%i[:-4]] = pd.read_csv(path_xyz+\"/\"+i, delim_whitespace=True, error_bad_lines=False,header=None,skiprows=3)\n",
      "C:\\Users\\serge\\AppData\\Local\\Temp\\ipykernel_8800\\1942274392.py:2: FutureWarning: The error_bad_lines argument has been deprecated and will be removed in a future version. Use on_bad_lines in the future.\n",
      "\n",
      "\n",
      "  globals()['%s_data'%i[:-4]] = pd.read_csv(path_xyz+\"/\"+i, delim_whitespace=True, error_bad_lines=False,header=None,skiprows=3)\n"
     ]
    }
   ],
   "source": []
  },
  {
   "cell_type": "code",
   "execution_count": 16,
   "metadata": {},
   "outputs": [
    {
     "name": "stderr",
     "output_type": "stream",
     "text": [
      "C:\\Users\\serge\\AppData\\Local\\Temp\\ipykernel_8800\\4150912074.py:1: FutureWarning: The error_bad_lines argument has been deprecated and will be removed in a future version. Use on_bad_lines in the future.\n",
      "\n",
      "\n",
      "  groundtruth_data=pd.read_csv(path_xyz+\"/\"+files[3], delim_whitespace=True, error_bad_lines=False,header=None,skiprows=3)\n"
     ]
    }
   ],
   "source": [
    "groundtruth_data=pd.read_csv(path_xyz+\"/\"+files[3], delim_whitespace=True, error_bad_lines=False,header=None,skiprows=3)\n",
    "groundtruth_data.columns = [\"timestamp\", \"tx\", \"ty\", \"tz\", \"qx\", \"qy\", \"qz\", \"qw\"]"
   ]
  },
  {
   "cell_type": "code",
   "execution_count": 17,
   "metadata": {},
   "outputs": [],
   "source": [
    "res=np.zeros(len(depth_data.timestamp))\n",
    "\n",
    "for j in range(0,len(depth_data.timestamp) - 1):\n",
    "    error=1e13\n",
    "    for i in range(0,len(groundtruth_data.timestamp) - 1):\n",
    "        # print(\"error= \",np.abs(groundtruth_data.timestamp[i] - depth_data.timestamp[j]))\n",
    "        if np.abs(groundtruth_data.timestamp[i] - depth_data.timestamp[j])<error:\n",
    "            error=np.abs(groundtruth_data.timestamp[i] - depth_data.timestamp[j])\n",
    "            # print('j=',j,' i=',i,\" error=\",error,'\\n')\n",
    "            res[j]=i        "
   ]
  },
  {
   "cell_type": "code",
   "execution_count": 18,
   "metadata": {},
   "outputs": [],
   "source": [
    "with open(path_xyz+\"/\"+'test_sync.txt', 'w') as f:\n",
    "    f.write(\"timestamp depth_path rgb_path \\n\")\n",
    "    for i in range(0,len(res)-1) :\n",
    "        f.write(str(groundtruth_data.timestamp[int(res[i])])+' '+str(depth_data.path[i])+' '+str(rgb_data.path[i]))\n",
    "        f.write('\\n')"
   ]
  },
  {
   "cell_type": "code",
   "execution_count": 20,
   "metadata": {},
   "outputs": [],
   "source": [
    "with open(path_xyz+\"/\"+'test_sync.txt', 'w') as f:\n",
    "\n",
    "   \n",
    "\n",
    "    f.write(\"timestamp tx ty tz qx qy qz qw \\n\")\n",
    "    for i in range(0,len(res)-1) :\n",
    "         \n",
    "        tx=(groundtruth_data.tx[int(res[i])])\n",
    "        ty=(groundtruth_data.ty[int(res[i])])\n",
    "        tz=(groundtruth_data.tz[int(res[i])])\n",
    "        qx=(groundtruth_data.qx[int(res[i])])\n",
    "        qy=(groundtruth_data.qy[int(res[i])])\n",
    "        qz=(groundtruth_data.qz[int(res[i])])\n",
    "        qw=(groundtruth_data.qw[int(res[i])])\n",
    "        pose=np.array([tx,ty,tz,qx,qy,qz,qw])\n",
    "\n",
    "        f.write(str(pose[0])+' '+str(pose[1])+' '+str(pose[2])+' '+str(pose[3])+' '+str(pose[4])+' '+str(pose[5])+' '+str(pose[6]))\n",
    "        f.write('\\n')"
   ]
  },
  {
   "cell_type": "code",
   "execution_count": 1,
   "metadata": {},
   "outputs": [],
   "source": [
    "from tools.sync_tool import sync_file_gen\n",
    "from tools.sync_tool import get_pose"
   ]
  },
  {
   "cell_type": "code",
   "execution_count": 2,
   "metadata": {},
   "outputs": [
    {
     "name": "stderr",
     "output_type": "stream",
     "text": [
      "c:\\Users\\serge\\Documents\\B3\\-Perception-in-Robotics-2023\\my\\FP\\PIR_final_project\\tools\\sync_tool.py:24: FutureWarning: The error_bad_lines argument has been deprecated and will be removed in a future version. Use on_bad_lines in the future.\n",
      "\n",
      "\n",
      "  globals()['%s_data'%i[:-4]] = pd.read_csv(path_+\"/\"+i, delim_whitespace=True, error_bad_lines=False,header=None,skiprows=3)\n",
      "c:\\Users\\serge\\Documents\\B3\\-Perception-in-Robotics-2023\\my\\FP\\PIR_final_project\\tools\\sync_tool.py:24: FutureWarning: The error_bad_lines argument has been deprecated and will be removed in a future version. Use on_bad_lines in the future.\n",
      "\n",
      "\n",
      "  globals()['%s_data'%i[:-4]] = pd.read_csv(path_+\"/\"+i, delim_whitespace=True, error_bad_lines=False,header=None,skiprows=3)\n",
      "c:\\Users\\serge\\Documents\\B3\\-Perception-in-Robotics-2023\\my\\FP\\PIR_final_project\\tools\\sync_tool.py:27: FutureWarning: The error_bad_lines argument has been deprecated and will be removed in a future version. Use on_bad_lines in the future.\n",
      "\n",
      "\n",
      "  groundtruth_data=pd.read_csv(path_+\"/\"+files[3], delim_whitespace=True, error_bad_lines=False,header=None,skiprows=3)\n"
     ]
    },
    {
     "ename": "UFuncTypeError",
     "evalue": "ufunc 'add' did not contain a loop with signature matching types (dtype('float64'), dtype('<U1')) -> None",
     "output_type": "error",
     "traceback": [
      "\u001b[1;31m---------------------------------------------------------------------------\u001b[0m",
      "\u001b[1;31mUFuncTypeError\u001b[0m                            Traceback (most recent call last)",
      "Cell \u001b[1;32mIn[2], line 1\u001b[0m\n\u001b[1;32m----> 1\u001b[0m sync_file_gen(name\u001b[39m=\u001b[39;49m\u001b[39m\"\u001b[39;49m\u001b[39mtest_py\u001b[39;49m\u001b[39m\"\u001b[39;49m,path_\u001b[39m=\u001b[39;49m \u001b[39mr\u001b[39;49m\u001b[39m'\u001b[39;49m\u001b[39mdatasets/rgbd_dataset_freiburg1_xyz_clear_test\u001b[39;49m\u001b[39m'\u001b[39;49m)\n",
      "File \u001b[1;32mc:\\Users\\serge\\Documents\\B3\\-Perception-in-Robotics-2023\\my\\FP\\PIR_final_project\\tools\\sync_tool.py:65\u001b[0m, in \u001b[0;36msync_file_gen\u001b[1;34m(path_, name)\u001b[0m\n\u001b[0;32m     62\u001b[0m qw\u001b[39m=\u001b[39m(groundtruth_data\u001b[39m.\u001b[39mqw[\u001b[39mint\u001b[39m(res[i])])\n\u001b[0;32m     63\u001b[0m pose\u001b[39m=\u001b[39mnp\u001b[39m.\u001b[39marray([tx,ty,tz,qx,qy,qz,qw])\n\u001b[1;32m---> 65\u001b[0m f\u001b[39m.\u001b[39mwrite(pose[\u001b[39m0\u001b[39;49m]\u001b[39m+\u001b[39;49m\u001b[39m'\u001b[39;49m\u001b[39m \u001b[39;49m\u001b[39m'\u001b[39;49m\u001b[39m+\u001b[39mpose[\u001b[39m1\u001b[39m]\u001b[39m+\u001b[39m\u001b[39m'\u001b[39m\u001b[39m \u001b[39m\u001b[39m'\u001b[39m\u001b[39m+\u001b[39mpose[\u001b[39m2\u001b[39m]\u001b[39m+\u001b[39m\u001b[39m'\u001b[39m\u001b[39m \u001b[39m\u001b[39m'\u001b[39m\u001b[39m+\u001b[39mpose[\u001b[39m3\u001b[39m]\u001b[39m+\u001b[39m\u001b[39m'\u001b[39m\u001b[39m \u001b[39m\u001b[39m'\u001b[39m\u001b[39m+\u001b[39mpose[\u001b[39m4\u001b[39m]\u001b[39m+\u001b[39m\u001b[39m'\u001b[39m\u001b[39m \u001b[39m\u001b[39m'\u001b[39m\u001b[39m+\u001b[39mpose[\u001b[39m5\u001b[39m]\u001b[39m+\u001b[39m\u001b[39m'\u001b[39m\u001b[39m \u001b[39m\u001b[39m'\u001b[39m\u001b[39m+\u001b[39mpose[\u001b[39m6\u001b[39m])\n\u001b[0;32m     66\u001b[0m f\u001b[39m.\u001b[39mwrite(\u001b[39m'\u001b[39m\u001b[39m\\n\u001b[39;00m\u001b[39m'\u001b[39m)\n",
      "\u001b[1;31mUFuncTypeError\u001b[0m: ufunc 'add' did not contain a loop with signature matching types (dtype('float64'), dtype('<U1')) -> None"
     ]
    }
   ],
   "source": [
    "sync_file_gen(name=\"test_py\",path_= r'datasets/rgbd_dataset_freiburg1_xyz_clear_test')"
   ]
  },
  {
   "cell_type": "code",
   "execution_count": null,
   "metadata": {},
   "outputs": [],
   "source": [
    "with open(path_+\"/\"+\"groundtruth_sync\"+'.txt', 'w') as f:"
   ]
  }
 ],
 "metadata": {
  "kernelspec": {
   "display_name": "Python 3",
   "language": "python",
   "name": "python3"
  },
  "language_info": {
   "codemirror_mode": {
    "name": "ipython",
    "version": 3
   },
   "file_extension": ".py",
   "mimetype": "text/x-python",
   "name": "python",
   "nbconvert_exporter": "python",
   "pygments_lexer": "ipython3",
   "version": "3.10.9"
  },
  "orig_nbformat": 4
 },
 "nbformat": 4,
 "nbformat_minor": 2
}
