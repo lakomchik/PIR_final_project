{
 "cells": [
  {
   "cell_type": "code",
   "execution_count": 12,
   "metadata": {},
   "outputs": [],
   "source": [
    "import numpy as np\n",
    "import os\n",
    "import glob\n",
    "import pandas as pd"
   ]
  },
  {
   "cell_type": "code",
   "execution_count": 74,
   "metadata": {},
   "outputs": [],
   "source": [
    "class Sync():\n",
    "    def init(self,path_xyz):\n",
    "        ###\n",
    "        self.path_xyz=path_xyz\n",
    "\n",
    "        files=glob.glob(path_xyz+'\\*')\n",
    "        for i in range(0,len(files)):\n",
    "            files[i]=files[i][47:]\n",
    "\n",
    "        print(files)\n",
    "        ###\n",
    "        self.depth_data = pd.read_csv(path_xyz+\"/\"+'depth.txt', delim_whitespace=True,header=None,skiprows=3)\n",
    "        self.depth_data.columns = [\"timestamp\", \"path\"]\n",
    "        ###\n",
    "        self.rgb_data = pd.read_csv(path_xyz+\"/\"+'rgb.txt', delim_whitespace=True,header=None,skiprows=3)\n",
    "        self.rgb_data.columns = [\"timestamp\", \"path\"]\n",
    "        ###\n",
    "        self.groundtruth_data=pd.read_csv(path_xyz+\"/\"+'groundtruth.txt', delim_whitespace=True,header=None,skiprows=3)\n",
    "        self.groundtruth_data.columns = [\"timestamp\", \"tx\", \"ty\", \"tz\", \"qx\", \"qy\", \"qz\", \"qw\"]\n",
    "        ###\n",
    "        \n",
    "    def sort(self):\n",
    "        self.res=np.zeros(len(self.depth_data.timestamp))\n",
    "\n",
    "        for j in range(0,len(self.depth_data.timestamp) - 1):\n",
    "            error=1e13\n",
    "            for i in range(0,len(self.groundtruth_data.timestamp) - 1):\n",
    "                # print(\"error= \",np.abs(groundtruth_data.timestamp[i] - depth_data.timestamp[j]))\n",
    "                if np.abs(self.groundtruth_data.timestamp[i] - self.depth_data.timestamp[j])<error:\n",
    "                    error=np.abs(self.groundtruth_data.timestamp[i] - self.depth_data.timestamp[j])\n",
    "                    # print('j=',j,' i=',i,\" error=\",error,'\\n')\n",
    "                    self.res[j]=i          \n",
    "    \n",
    "    def write_txt_sync(self):\n",
    "        with open(self.path_xyz+\"/\"+'test_sync.txt', 'w') as f:\n",
    "            f.write(\"timestamp depth_path rgb_path \\n\")\n",
    "            for i in range(0,len(self.res)-1) :\n",
    "                f.write(str(self.groundtruth_data.timestamp[int(self.res[i])])+' '+str(self.depth_data.path[i])+' '+str(self.rgb_data.path[i]))\n",
    "                f.write('\\n')\n",
    "\n",
    "    def write_txt_ground_truth(self):\n",
    "        with open(self.path_xyz+\"/\"+'ground_truth_sync.txt', 'w') as f:\n",
    "            f.write(\"timestamp tx ty tz qx qy qz qw \\n\")\n",
    "            for i in range(0,len(self.res)-1) :\n",
    "                \n",
    "                timestamp=(self.groundtruth_data.timestamp[int(self.res[i])])\n",
    "                tx=(self.groundtruth_data.tx[int(self.res[i])])\n",
    "                ty=(self.groundtruth_data.ty[int(self.res[i])])\n",
    "                tz=(self.groundtruth_data.tz[int(self.res[i])])\n",
    "                qx=(self.groundtruth_data.qx[int(self.res[i])])\n",
    "                qy=(self.groundtruth_data.qy[int(self.res[i])])\n",
    "                qz=(self.groundtruth_data.qz[int(self.res[i])])\n",
    "                qw=(self.groundtruth_data.qw[int(self.res[i])])\n",
    "                pose=np.array([timestamp,tx,ty,tz,qx,qy,qz,qw])\n",
    "\n",
    "                f.write(str(pose[0])+' '+str(pose[1])+' '+str(pose[2])+' '+str(pose[3])+' '+str(pose[4])+' '+str(pose[5])+' '+str(pose[6])+' '+str(pose[7]))\n",
    "                f.write('\\n')\n",
    "        \n",
    "    def get_ground_truth_sync (self,i):\n",
    "        tx=(self.groundtruth_data.tx[int(self.res[i])])\n",
    "        ty=(self.groundtruth_data.ty[int(self.res[i])])\n",
    "        tz=(self.groundtruth_data.tz[int(self.res[i])])\n",
    "        qx=(self.groundtruth_data.qx[int(self.res[i])])\n",
    "        qy=(self.groundtruth_data.qy[int(self.res[i])])\n",
    "        qz=(self.groundtruth_data.qz[int(self.res[i])])\n",
    "        qw=(self.groundtruth_data.qw[int(self.res[i])])\n",
    "        pose=np.array([tx,ty,tz,qx,qy,qz,qw])\n",
    "        return(pose)"
   ]
  },
  {
   "cell_type": "code",
   "execution_count": 75,
   "metadata": {},
   "outputs": [
    {
     "name": "stdout",
     "output_type": "stream",
     "text": [
      "['accelerometer.txt', 'depth', 'depth.txt', 'groundtruth.txt', 'ground_truth_sync.txt', 'rgb', 'rgb.txt', 'test_sync.txt']\n"
     ]
    }
   ],
   "source": [
    "# example of using\n",
    "xyz_ds=Sync()\n",
    "xyz_ds.init(path_xyz=r\"datasets/rgbd_dataset_freiburg1_xyz_clear_test\")\n",
    "xyz_ds.sort()\n",
    "xyz_ds.write_txt_sync()\n",
    "xyz_ds.write_txt_ground_truth()\n",
    "xyz_ds.get_ground_truth_sync(50)"
   ]
  },
  {
   "cell_type": "code",
   "execution_count": 76,
   "metadata": {},
   "outputs": [],
   "source": []
  },
  {
   "cell_type": "code",
   "execution_count": 77,
   "metadata": {},
   "outputs": [],
   "source": []
  },
  {
   "cell_type": "code",
   "execution_count": 78,
   "metadata": {},
   "outputs": [],
   "source": []
  },
  {
   "cell_type": "code",
   "execution_count": 80,
   "metadata": {},
   "outputs": [
    {
     "data": {
      "text/plain": [
       "array([ 1.1649,  0.624 ,  1.4774,  0.6601,  0.6431, -0.2949, -0.2524])"
      ]
     },
     "execution_count": 80,
     "metadata": {},
     "output_type": "execute_result"
    }
   ],
   "source": []
  },
  {
   "cell_type": "code",
   "execution_count": null,
   "metadata": {},
   "outputs": [],
   "source": []
  }
 ],
 "metadata": {
  "kernelspec": {
   "display_name": "Python 3",
   "language": "python",
   "name": "python3"
  },
  "language_info": {
   "codemirror_mode": {
    "name": "ipython",
    "version": 3
   },
   "file_extension": ".py",
   "mimetype": "text/x-python",
   "name": "python",
   "nbconvert_exporter": "python",
   "pygments_lexer": "ipython3",
   "version": "3.10.9"
  },
  "orig_nbformat": 4
 },
 "nbformat": 4,
 "nbformat_minor": 2
}
