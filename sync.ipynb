{
 "cells": [
  {
   "cell_type": "code",
   "execution_count": 1,
   "metadata": {},
   "outputs": [],
   "source": [
    "from tools.sync_tool import *"
   ]
  },
  {
   "cell_type": "code",
   "execution_count": 2,
   "metadata": {},
   "outputs": [
    {
     "name": "stdout",
     "output_type": "stream",
     "text": [
      "['accelerometer.txt', 'depth', 'depth.txt', 'groundtruth.txt', 'ground_truth_sync.txt', 'rgb', 'rgb.txt', 'test_sync.txt', 'test_sync_fast.txt']\n"
     ]
    },
    {
     "data": {
      "text/plain": [
       "array([ 1.328 ,  0.6254,  1.6437,  0.6581,  0.6175, -0.2924, -0.3165])"
      ]
     },
     "execution_count": 2,
     "metadata": {},
     "output_type": "execute_result"
    }
   ],
   "source": [
    "# example of using\n",
    "xyz_ds=Sync()\n",
    "xyz_ds.init(path_xyz=r\"datasets/rgbd_dataset_freiburg1_xyz_clear_test\")\n",
    "xyz_ds.sort_fast()\n",
    "# xyz_ds.sort()\n",
    "xyz_ds.write_txt_sync()\n",
    "xyz_ds.write_txt_ground_truth()\n",
    "xyz_ds.get_ground_truth_sync(50)"
   ]
  },
  {
   "cell_type": "code",
   "execution_count": null,
   "metadata": {},
   "outputs": [],
   "source": []
  }
 ],
 "metadata": {
  "kernelspec": {
   "display_name": "Python 3",
   "language": "python",
   "name": "python3"
  },
  "language_info": {
   "codemirror_mode": {
    "name": "ipython",
    "version": 3
   },
   "file_extension": ".py",
   "mimetype": "text/x-python",
   "name": "python",
   "nbconvert_exporter": "python",
   "pygments_lexer": "ipython3",
   "version": "3.10.9"
  },
  "orig_nbformat": 4
 },
 "nbformat": 4,
 "nbformat_minor": 2
}
