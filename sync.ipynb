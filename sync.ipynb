{
 "cells": [
  {
   "cell_type": "code",
   "execution_count": 1,
   "metadata": {},
   "outputs": [],
   "source": [
    "import numpy as np\n",
    "import cv2\n",
    "import os\n",
    "import glob\n",
    "import pandas as pd"
   ]
  },
  {
   "cell_type": "code",
   "execution_count": 2,
   "metadata": {},
   "outputs": [],
   "source": [
    "path_xyz= r'datasets/rgbd_dataset_freiburg1_xyz_clear_test'\n",
    "\n",
    "\n",
    "\n",
    "# path_floor_rgb= r'datasets/rgbd_dataset_freiburg1_floor/rgb'\n",
    "# path_floor_depth= r'datasets/rgbd_dataset_freiburg1_floor/depth'"
   ]
  },
  {
   "cell_type": "code",
   "execution_count": null,
   "metadata": {},
   "outputs": [],
   "source": [
    "files=glob.glob(path_xyz+'\\*')\n",
    "for i in range(0,len(files)):\n",
    "    files[i]=files[i][47:]\n",
    "\n",
    "print(files)"
   ]
  },
  {
   "cell_type": "code",
   "execution_count": null,
   "metadata": {},
   "outputs": [],
   "source": [
    "for i in files[2],files[5]:\n",
    "    globals()['%s_data'%i[:-4]] = pd.read_csv(path_xyz+\"/\"+i, delim_whitespace=True, error_bad_lines=False,header=None,skiprows=3)\n",
    "    globals()['%s_data'%i[:-4]].columns = [\"timestamp\", \"path\"]\n"
   ]
  },
  {
   "cell_type": "code",
   "execution_count": null,
   "metadata": {},
   "outputs": [],
   "source": [
    "groundtruth_data=pd.read_csv(path_xyz+\"/\"+files[3], delim_whitespace=True, error_bad_lines=False,header=None,skiprows=3)\n",
    "groundtruth_data.columns = [\"timestamp\", \"tx\", \"ty\", \"tz\", \"qx\", \"qy\", \"qz\", \"qw\"]"
   ]
  },
  {
   "cell_type": "code",
   "execution_count": 9,
   "metadata": {},
   "outputs": [],
   "source": [
    "res=np.zeros(len(depth_data.timestamp))\n",
    "\n",
    "for j in range(0,len(depth_data.timestamp) - 1):\n",
    "    error=1e13\n",
    "    for i in range(0,len(groundtruth_data.timestamp) - 1):\n",
    "        # print(\"error= \",np.abs(groundtruth_data.timestamp[i] - depth_data.timestamp[j]))\n",
    "        if np.abs(groundtruth_data.timestamp[i] - depth_data.timestamp[j])<error:\n",
    "            error=np.abs(groundtruth_data.timestamp[i] - depth_data.timestamp[j])\n",
    "            # print('j=',j,' i=',i,\" error=\",error,'\\n')\n",
    "            res[j]=i        "
   ]
  },
  {
   "cell_type": "code",
   "execution_count": 52,
   "metadata": {},
   "outputs": [],
   "source": [
    "with open(path_xyz+\"/\"+'test_sync.txt', 'w') as f:\n",
    "    f.write(\"timestamp depth_path rgb_path \\n\")\n",
    "    for i in range(0,len(res)-1) :\n",
    "        f.write(str(groundtruth_data.timestamp[int(res[i])])+' '+str(depth_data.path[i])+' '+str(rgb_data.path[i]))\n",
    "        f.write('\\n')"
   ]
  }
 ],
 "metadata": {
  "kernelspec": {
   "display_name": "Python 3",
   "language": "python",
   "name": "python3"
  },
  "language_info": {
   "codemirror_mode": {
    "name": "ipython",
    "version": 3
   },
   "file_extension": ".py",
   "mimetype": "text/x-python",
   "name": "python",
   "nbconvert_exporter": "python",
   "pygments_lexer": "ipython3",
   "version": "3.10.9"
  },
  "orig_nbformat": 4
 },
 "nbformat": 4,
 "nbformat_minor": 2
}
