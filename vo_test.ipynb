{
 "cells": [
  {
   "cell_type": "code",
   "execution_count": 7,
   "metadata": {},
   "outputs": [],
   "source": [
    "import open3d as o3d\n",
    "import numpy as np\n",
    "\n",
    "from tools.camera_params import CameraParams\n",
    "from tools.data_reader import Observation, get_observation\n",
    "\n",
    "import matplotlib.pyplot as plt\n",
    "\n",
    "import copy"
   ]
  },
  {
   "cell_type": "code",
   "execution_count": 8,
   "metadata": {},
   "outputs": [],
   "source": [
    "def get_translation_matrix(obs_start: Observation, obs_goal: Observation) -> np.ndarray:\n",
    "    camera_params = CameraParams()\n",
    "    pinhole_camera_intrinsic = o3d.camera.PinholeCameraIntrinsic()\n",
    "    pinhole_camera_intrinsic.set_intrinsics(640, 480, camera_params.fx, camera_params.fy, camera_params.cx, camera_params.cy)\n",
    "    start_color = o3d.geometry.Image(obs_start.image)\n",
    "    start_depth = o3d.geometry.Image(obs_start.depth)\n",
    "    goal_color = o3d.geometry.Image(obs_goal.image)\n",
    "    goal_depth = o3d.geometry.Image(obs_goal.depth)\n",
    "    start_rgbd = o3d.geometry.RGBDImage.create_from_color_and_depth(start_color, start_depth, depth_scale=0.05)\n",
    "    goal_rgbd = o3d.geometry.RGBDImage.create_from_color_and_depth(goal_color, goal_depth, depth_scale=0.05)\n",
    "\n",
    "    option = o3d.pipelines.odometry.OdometryOption()\n",
    "    odom_init = np.identity(4)\n",
    "\n",
    "    _, trans_hybrid_term, _ = o3d.pipelines.odometry.compute_rgbd_odometry(\n",
    "        start_rgbd, goal_rgbd, pinhole_camera_intrinsic,\n",
    "        odom_init, o3d.pipelines.odometry.RGBDOdometryJacobianFromHybridTerm(), option)\n",
    "\n",
    "    return trans_hybrid_term"
   ]
  },
  {
   "cell_type": "code",
   "execution_count": 10,
   "metadata": {},
   "outputs": [
    {
     "name": "stdout",
     "output_type": "stream",
     "text": [
      "[[ 0.99967385  0.0222413  -0.01255029 -0.02608513]\n",
      " [-0.02226994  0.99974969 -0.00214664  0.00312602]\n",
      " [ 0.0124994   0.00242543  0.99991894  0.00139866]\n",
      " [ 0.          0.          0.          1.        ]]\n",
      "[[ 0.99934499  0.03422252 -0.01176517 -0.01985292]\n",
      " [-0.03424814  0.99941139 -0.0019834   0.00508129]\n",
      " [ 0.01169037  0.00238504  0.99992882  0.00141102]\n",
      " [ 0.          0.          0.          1.        ]]\n",
      "[[ 9.99235934e-01  3.76925276e-02 -1.03354864e-02 -1.54782582e-02]\n",
      " [-3.76946519e-02  9.99289304e-01 -1.07428444e-05 -4.80272069e-04]\n",
      " [ 1.03277361e-02  4.00327199e-04  9.99946587e-01  1.84875477e-03]\n",
      " [ 0.00000000e+00  0.00000000e+00  0.00000000e+00  1.00000000e+00]]\n",
      "[[ 9.99417667e-01  3.28148118e-02 -9.35491356e-03 -1.75071305e-02]\n",
      " [-3.28190618e-02  9.99461264e-01 -3.01122879e-04 -8.20743248e-04]\n",
      " [ 9.33999245e-03  6.07967012e-04  9.99956196e-01  1.54365340e-03]\n",
      " [ 0.00000000e+00  0.00000000e+00  0.00000000e+00  1.00000000e+00]]\n",
      "[[ 9.99655808e-01  2.47614579e-02 -8.66810136e-03 -1.89553100e-02]\n",
      " [-2.47652485e-02  9.99693240e-01 -3.30231952e-04  1.69722098e-03]\n",
      " [ 8.65726531e-03  5.44785973e-04  9.99962377e-01  1.21500116e-03]\n",
      " [ 0.00000000e+00  0.00000000e+00  0.00000000e+00  1.00000000e+00]]\n",
      "[[ 9.99823165e-01  1.68617968e-02 -8.32578383e-03 -1.82034689e-02]\n",
      " [-1.68487108e-02  9.99856706e-01  1.63940099e-03 -5.28840803e-04]\n",
      " [ 8.35223404e-03 -1.49883236e-03  9.99963996e-01  1.70187829e-03]\n",
      " [ 0.00000000e+00  0.00000000e+00  0.00000000e+00  1.00000000e+00]]\n",
      "[[ 9.99849973e-01  1.52363777e-02 -8.23923823e-03 -1.70535850e-02]\n",
      " [-1.52319163e-02  9.99883805e-01  6.03963083e-04 -2.63908819e-03]\n",
      " [ 8.24748308e-03 -4.78373085e-04  9.99965875e-01  1.94712715e-03]\n",
      " [ 0.00000000e+00  0.00000000e+00  0.00000000e+00  1.00000000e+00]]\n",
      "[[ 0.99982509  0.01682101 -0.00817532 -0.01574724]\n",
      " [-0.0168379   0.99985623 -0.00200242 -0.00373035]\n",
      " [ 0.00814047  0.00213973  0.99996458  0.00187444]\n",
      " [ 0.          0.          0.          1.        ]]\n",
      "[[ 0.99985661  0.01499712 -0.0078637  -0.01670192]\n",
      " [-0.01501633  0.99988439 -0.00239007 -0.00410709]\n",
      " [ 0.00782695  0.00250781  0.99996622  0.00166757]\n",
      " [ 0.          0.          0.          1.        ]]\n",
      "[[ 0.99989153  0.01243587 -0.00789118 -0.01796317]\n",
      " [-0.01244935  0.99992112 -0.00166174 -0.0036505 ]\n",
      " [ 0.0078699   0.0017598   0.99996748  0.00194577]\n",
      " [ 0.          0.          0.          1.        ]]\n"
     ]
    }
   ],
   "source": [
    "\n",
    "for i in range(10):\n",
    "    mat = get_translation_matrix(get_observation(170 + i, dataset_folder=\"datasets/rgbd_dataset_freiburg1_floor\"), get_observation(171 + i, dataset_folder=\"datasets/rgbd_dataset_freiburg1_floor\"))\n",
    "    print(mat)"
   ]
  }
 ],
 "metadata": {
  "kernelspec": {
   "display_name": "Python 3",
   "language": "python",
   "name": "python3"
  },
  "language_info": {
   "codemirror_mode": {
    "name": "ipython",
    "version": 3
   },
   "file_extension": ".py",
   "mimetype": "text/x-python",
   "name": "python",
   "nbconvert_exporter": "python",
   "pygments_lexer": "ipython3",
   "version": "3.10.6"
  },
  "orig_nbformat": 4
 },
 "nbformat": 4,
 "nbformat_minor": 2
}
